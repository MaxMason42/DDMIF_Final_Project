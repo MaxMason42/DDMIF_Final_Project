{
 "cells": [
  {
   "cell_type": "code",
   "execution_count": null,
   "metadata": {},
   "outputs": [],
   "source": [
    "import pandas as pd\n",
    "import numpy as np\n",
    "import empyrical"
   ]
  },
  {
   "cell_type": "code",
   "execution_count": 124,
   "metadata": {},
   "outputs": [],
   "source": [
    "df = pd.read_csv(\"results/tsmom/2023-2024/captured_returns_sw.csv\")"
   ]
  },
  {
   "cell_type": "code",
   "execution_count": 125,
   "metadata": {},
   "outputs": [
    {
     "data": {
      "text/html": [
       "<div>\n",
       "<style scoped>\n",
       "    .dataframe tbody tr th:only-of-type {\n",
       "        vertical-align: middle;\n",
       "    }\n",
       "\n",
       "    .dataframe tbody tr th {\n",
       "        vertical-align: top;\n",
       "    }\n",
       "\n",
       "    .dataframe thead th {\n",
       "        text-align: right;\n",
       "    }\n",
       "</style>\n",
       "<table border=\"1\" class=\"dataframe\">\n",
       "  <thead>\n",
       "    <tr style=\"text-align: right;\">\n",
       "      <th></th>\n",
       "      <th>Unnamed: 0</th>\n",
       "      <th>identifier</th>\n",
       "      <th>time</th>\n",
       "      <th>returns</th>\n",
       "      <th>position</th>\n",
       "      <th>captured_returns</th>\n",
       "    </tr>\n",
       "  </thead>\n",
       "  <tbody>\n",
       "    <tr>\n",
       "      <th>0</th>\n",
       "      <td>0</td>\n",
       "      <td>ADM</td>\n",
       "      <td>2023-01-03</td>\n",
       "      <td>-0.019575</td>\n",
       "      <td>1.0</td>\n",
       "      <td>-0.019575</td>\n",
       "    </tr>\n",
       "    <tr>\n",
       "      <th>1</th>\n",
       "      <td>1</td>\n",
       "      <td>ADM</td>\n",
       "      <td>2023-01-04</td>\n",
       "      <td>-0.012831</td>\n",
       "      <td>1.0</td>\n",
       "      <td>-0.012831</td>\n",
       "    </tr>\n",
       "    <tr>\n",
       "      <th>2</th>\n",
       "      <td>2</td>\n",
       "      <td>ADM</td>\n",
       "      <td>2023-01-05</td>\n",
       "      <td>0.010386</td>\n",
       "      <td>1.0</td>\n",
       "      <td>0.010386</td>\n",
       "    </tr>\n",
       "    <tr>\n",
       "      <th>3</th>\n",
       "      <td>3</td>\n",
       "      <td>ADM</td>\n",
       "      <td>2023-01-06</td>\n",
       "      <td>-0.003404</td>\n",
       "      <td>1.0</td>\n",
       "      <td>-0.003404</td>\n",
       "    </tr>\n",
       "    <tr>\n",
       "      <th>4</th>\n",
       "      <td>4</td>\n",
       "      <td>ADM</td>\n",
       "      <td>2023-01-09</td>\n",
       "      <td>0.005160</td>\n",
       "      <td>1.0</td>\n",
       "      <td>0.005160</td>\n",
       "    </tr>\n",
       "    <tr>\n",
       "      <th>...</th>\n",
       "      <td>...</td>\n",
       "      <td>...</td>\n",
       "      <td>...</td>\n",
       "      <td>...</td>\n",
       "      <td>...</td>\n",
       "      <td>...</td>\n",
       "    </tr>\n",
       "    <tr>\n",
       "      <th>10204</th>\n",
       "      <td>10204</td>\n",
       "      <td>WMT</td>\n",
       "      <td>2023-12-21</td>\n",
       "      <td>0.008528</td>\n",
       "      <td>1.0</td>\n",
       "      <td>0.008528</td>\n",
       "    </tr>\n",
       "    <tr>\n",
       "      <th>10205</th>\n",
       "      <td>10205</td>\n",
       "      <td>WMT</td>\n",
       "      <td>2023-12-22</td>\n",
       "      <td>-0.001096</td>\n",
       "      <td>1.0</td>\n",
       "      <td>-0.001096</td>\n",
       "    </tr>\n",
       "    <tr>\n",
       "      <th>10206</th>\n",
       "      <td>10206</td>\n",
       "      <td>WMT</td>\n",
       "      <td>2023-12-26</td>\n",
       "      <td>0.006832</td>\n",
       "      <td>1.0</td>\n",
       "      <td>0.006832</td>\n",
       "    </tr>\n",
       "    <tr>\n",
       "      <th>10207</th>\n",
       "      <td>10207</td>\n",
       "      <td>WMT</td>\n",
       "      <td>2023-12-27</td>\n",
       "      <td>-0.001438</td>\n",
       "      <td>1.0</td>\n",
       "      <td>-0.001438</td>\n",
       "    </tr>\n",
       "    <tr>\n",
       "      <th>10208</th>\n",
       "      <td>10208</td>\n",
       "      <td>WMT</td>\n",
       "      <td>2023-12-28</td>\n",
       "      <td>0.000378</td>\n",
       "      <td>1.0</td>\n",
       "      <td>0.000378</td>\n",
       "    </tr>\n",
       "  </tbody>\n",
       "</table>\n",
       "<p>10209 rows × 6 columns</p>\n",
       "</div>"
      ],
      "text/plain": [
       "       Unnamed: 0 identifier        time   returns  position  captured_returns\n",
       "0               0        ADM  2023-01-03 -0.019575       1.0         -0.019575\n",
       "1               1        ADM  2023-01-04 -0.012831       1.0         -0.012831\n",
       "2               2        ADM  2023-01-05  0.010386       1.0          0.010386\n",
       "3               3        ADM  2023-01-06 -0.003404       1.0         -0.003404\n",
       "4               4        ADM  2023-01-09  0.005160       1.0          0.005160\n",
       "...           ...        ...         ...       ...       ...               ...\n",
       "10204       10204        WMT  2023-12-21  0.008528       1.0          0.008528\n",
       "10205       10205        WMT  2023-12-22 -0.001096       1.0         -0.001096\n",
       "10206       10206        WMT  2023-12-26  0.006832       1.0          0.006832\n",
       "10207       10207        WMT  2023-12-27 -0.001438       1.0         -0.001438\n",
       "10208       10208        WMT  2023-12-28  0.000378       1.0          0.000378\n",
       "\n",
       "[10209 rows x 6 columns]"
      ]
     },
     "execution_count": 125,
     "metadata": {},
     "output_type": "execute_result"
    }
   ],
   "source": [
    "df"
   ]
  },
  {
   "cell_type": "code",
   "execution_count": 126,
   "metadata": {},
   "outputs": [],
   "source": [
    "num_identifiers = None\n",
    "\n",
    "if not num_identifiers:\n",
    "    num_identifiers = len(df.dropna()[\"identifier\"].unique())\n",
    "srs = df.dropna().groupby('time')[\"captured_returns\"].sum()/num_identifiers"
   ]
  },
  {
   "cell_type": "code",
   "execution_count": 127,
   "metadata": {},
   "outputs": [
    {
     "data": {
      "text/plain": [
       "time\n",
       "2023-01-03   -0.005943\n",
       "2023-01-04   -0.001204\n",
       "2023-01-05   -0.002852\n",
       "2023-01-06   -0.000119\n",
       "2023-01-09   -0.002175\n",
       "                ...   \n",
       "2023-12-21    0.000329\n",
       "2023-12-22    0.001432\n",
       "2023-12-26    0.000699\n",
       "2023-12-27   -0.001218\n",
       "2023-12-28   -0.001197\n",
       "Name: captured_returns, Length: 249, dtype: float64"
      ]
     },
     "execution_count": 127,
     "metadata": {},
     "output_type": "execute_result"
    }
   ],
   "source": [
    "srs"
   ]
  },
  {
   "cell_type": "code",
   "execution_count": 134,
   "metadata": {},
   "outputs": [
    {
     "data": {
      "text/plain": [
       "0.1427990271673798"
      ]
     },
     "execution_count": 134,
     "metadata": {},
     "output_type": "execute_result"
    }
   ],
   "source": [
    "empyrical.calmar_ratio(srs)"
   ]
  },
  {
   "cell_type": "code",
   "execution_count": 135,
   "metadata": {},
   "outputs": [
    {
     "data": {
      "text/plain": [
       "0.4939759036144578"
      ]
     },
     "execution_count": 135,
     "metadata": {},
     "output_type": "execute_result"
    }
   ],
   "source": [
    "len(srs[srs > 0.0]) / len(srs)"
   ]
  },
  {
   "cell_type": "code",
   "execution_count": 136,
   "metadata": {},
   "outputs": [
    {
     "data": {
      "text/plain": [
       "1.0526767595152742"
      ]
     },
     "execution_count": 136,
     "metadata": {},
     "output_type": "execute_result"
    }
   ],
   "source": [
    "np.mean(srs[srs > 0.0])/ np.mean(np.abs(srs[srs < 0.0]))"
   ]
  }
 ],
 "metadata": {
  "kernelspec": {
   "display_name": "Python 3",
   "language": "python",
   "name": "python3"
  },
  "language_info": {
   "codemirror_mode": {
    "name": "ipython",
    "version": 3
   },
   "file_extension": ".py",
   "mimetype": "text/x-python",
   "name": "python",
   "nbconvert_exporter": "python",
   "pygments_lexer": "ipython3",
   "version": "3.10.11"
  }
 },
 "nbformat": 4,
 "nbformat_minor": 2
}
